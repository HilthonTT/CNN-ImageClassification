{
 "cells": [
  {
   "cell_type": "markdown",
   "id": "428866e6-d5a0-4da0-81d3-051e7b455269",
   "metadata": {},
   "source": [
    "# 1. Setup and Load Data"
   ]
  },
  {
   "cell_type": "markdown",
   "id": "569077a6-db1b-4d6c-b420-c9729df10ba6",
   "metadata": {
    "tags": []
   },
   "source": [
    "## 1.1 Install Dependencies and Setup"
   ]
  },
  {
   "cell_type": "code",
   "execution_count": null,
   "id": "b052f0a5-d85f-4f15-be2b-12d403fa8766",
   "metadata": {
    "tags": []
   },
   "outputs": [],
   "source": [
    "!pip install tensorflow tensorflow-gpu opencv-python matplotlib"
   ]
  },
  {
   "cell_type": "code",
   "execution_count": null,
   "id": "342991af-b425-47a1-9de3-e2ad007e7340",
   "metadata": {
    "jupyter": {
     "source_hidden": true
    },
    "tags": []
   },
   "outputs": [],
   "source": [
    "!pip list"
   ]
  },
  {
   "cell_type": "code",
   "execution_count": null,
   "id": "755d9b75-5211-4961-b36c-156c4f94649e",
   "metadata": {
    "tags": []
   },
   "outputs": [],
   "source": [
    "import tensorflow as tf\n",
    "import os"
   ]
  },
  {
   "cell_type": "code",
   "execution_count": null,
   "id": "328ecf39-9f56-4de9-b66a-01e62e6e9739",
   "metadata": {
    "tags": []
   },
   "outputs": [],
   "source": [
    "# Avoid OOM (Out of Memory) errors by settings GPU Memory Consumption Growth\n",
    "gpus = tf.config.experimental.list_physical_devices('GPU')\n",
    "for gpu in gpus:\n",
    "    tf.config.experimental.set_memory_growth(gpu, True)"
   ]
  },
  {
   "cell_type": "markdown",
   "id": "60d75066-3554-4dd5-9624-6d0861c615de",
   "metadata": {
    "tags": []
   },
   "source": [
    "## 1.2 Remove dodgy images"
   ]
  },
  {
   "cell_type": "code",
   "execution_count": null,
   "id": "fd04f3ca-9ebe-4f61-944a-fedc950c532b",
   "metadata": {
    "tags": []
   },
   "outputs": [],
   "source": [
    "import cv2\n",
    "import imghdr\n",
    "from matplotlib import pyplot as plt"
   ]
  },
  {
   "cell_type": "code",
   "execution_count": null,
   "id": "5ef4af1c-1934-4636-9249-06172853c45c",
   "metadata": {
    "tags": []
   },
   "outputs": [],
   "source": [
    "data_dir = 'data'"
   ]
  },
  {
   "cell_type": "code",
   "execution_count": null,
   "id": "ff0c6406-03ca-4192-a352-6754f3b1e1c6",
   "metadata": {
    "tags": []
   },
   "outputs": [],
   "source": [
    "image_exts = ['jpeg', 'jpg', 'bmp', 'png']"
   ]
  },
  {
   "cell_type": "code",
   "execution_count": null,
   "id": "a3130e6f-c855-4284-a1e8-dadf5491caf6",
   "metadata": {
    "tags": []
   },
   "outputs": [],
   "source": [
    "image_exts"
   ]
  },
  {
   "cell_type": "code",
   "execution_count": null,
   "id": "005dbc44-3d62-4df0-8452-1a4d71cf24d5",
   "metadata": {
    "tags": []
   },
   "outputs": [],
   "source": [
    "for image_class in os.listdir(data_dir):\n",
    "    for image in os.listdir(os.path.join(data_dir, image_class)):\n",
    "        image_path = os.path.join(data_dir, image_class, image)\n",
    "        try:\n",
    "            img = cv2.imread(image_path)\n",
    "            tip = imghdr.what(image_path)\n",
    "            if tip not in image_exts:\n",
    "                print('Image not in ext list {}'.format(image_path))\n",
    "                os.remove(image_path)\n",
    "        except Exception as e:\n",
    "            print('Issue with image {}'.format(image_path))"
   ]
  },
  {
   "cell_type": "code",
   "execution_count": null,
   "id": "fbc58e13-dfa5-44ae-8551-c7368ac3440f",
   "metadata": {
    "jupyter": {
     "source_hidden": true
    },
    "tags": []
   },
   "outputs": [],
   "source": [
    "img = cv2.imread(os.path.join('data','happy', '154006829.jpg'))\n",
    "img.shape"
   ]
  },
  {
   "cell_type": "code",
   "execution_count": null,
   "id": "a2e10060-cc5d-4ed4-826a-65be4c83c19a",
   "metadata": {
    "tags": []
   },
   "outputs": [],
   "source": [
    "plt.imshow(cv2.cvtColor(img, cv2.COLOR_BGR2RGB))\n",
    "plt.show()"
   ]
  },
  {
   "cell_type": "markdown",
   "id": "5e511e3a-4b48-4aff-a33e-243cf258e07c",
   "metadata": {},
   "source": [
    "## 1.3 Load Data"
   ]
  },
  {
   "cell_type": "code",
   "execution_count": null,
   "id": "7ab3da34-02e2-4252-8644-cceb6dd35567",
   "metadata": {
    "tags": []
   },
   "outputs": [],
   "source": [
    "tf.data.Dataset??"
   ]
  },
  {
   "cell_type": "code",
   "execution_count": null,
   "id": "9a620803-b8fb-44fd-89e3-3f2de34def09",
   "metadata": {
    "tags": []
   },
   "outputs": [],
   "source": [
    "import numpy as np\n",
    "from matplotlib import pyplot as plt"
   ]
  },
  {
   "cell_type": "code",
   "execution_count": null,
   "id": "b936f21d-158e-4368-92db-61d9e5b636c4",
   "metadata": {
    "tags": []
   },
   "outputs": [],
   "source": [
    "data = tf.keras.utils.image_dataset_from_directory('data')"
   ]
  },
  {
   "cell_type": "code",
   "execution_count": null,
   "id": "4647cb3f-7e81-4cd5-b38e-cf91fa6016ec",
   "metadata": {
    "tags": []
   },
   "outputs": [],
   "source": [
    "data_iterator = data.as_numpy_iterator()"
   ]
  },
  {
   "cell_type": "code",
   "execution_count": null,
   "id": "7c4d5496-c3cc-49f2-9ce3-fa460b10edb4",
   "metadata": {
    "tags": []
   },
   "outputs": [],
   "source": [
    "batch = data_iterator.next()"
   ]
  },
  {
   "cell_type": "code",
   "execution_count": null,
   "id": "b72a2b9d-ca65-431d-8b35-b68ab1765358",
   "metadata": {
    "tags": []
   },
   "outputs": [],
   "source": [
    "# Images represented as numpy arrays\n",
    "batch[0].shape"
   ]
  },
  {
   "cell_type": "code",
   "execution_count": null,
   "id": "38da60b7-d024-4cea-a752-9a8b9a3f412a",
   "metadata": {
    "tags": []
   },
   "outputs": [],
   "source": [
    "#\n",
    "batch[1]"
   ]
  },
  {
   "cell_type": "code",
   "execution_count": null,
   "id": "32a1ccc6-ae8b-4921-bbe4-aaa854f74274",
   "metadata": {
    "tags": []
   },
   "outputs": [],
   "source": [
    "fig, ax = plt.subplots(ncols=4, figsize=(20,20))\n",
    "for idx, img in enumerate(batch[0][:4]):\n",
    "    ax[idx].imshow(img.astype(int))\n",
    "    ax[idx].title.set_text(batch[1][idx])"
   ]
  },
  {
   "cell_type": "code",
   "execution_count": null,
   "id": "78a1177f-1cbd-4a46-b36d-6cd831039441",
   "metadata": {},
   "outputs": [],
   "source": [
    "scaled = batch[0] / 255\n",
    "scaled.max()"
   ]
  },
  {
   "cell_type": "markdown",
   "id": "7892d385-bbe9-47a4-890e-3c1739c829d1",
   "metadata": {},
   "source": [
    "# 2. Preprocess Data"
   ]
  },
  {
   "cell_type": "markdown",
   "id": "fb53c73d-cd5a-44a6-86aa-c4c4daaabdc5",
   "metadata": {
    "tags": []
   },
   "source": [
    "## 2.1 Scale Data"
   ]
  },
  {
   "cell_type": "code",
   "execution_count": null,
   "id": "b700168b-447e-4b93-8f22-ddbd88d60f13",
   "metadata": {
    "tags": []
   },
   "outputs": [],
   "source": [
    "scaled_data = data.map(lambda x, y: (x/255, y))"
   ]
  },
  {
   "cell_type": "code",
   "execution_count": null,
   "id": "887c34ca-0870-4f18-a6dc-d8662ad58422",
   "metadata": {
    "tags": []
   },
   "outputs": [],
   "source": [
    "scaled_data.as_numpy_iterator().next()[0].max()"
   ]
  },
  {
   "cell_type": "markdown",
   "id": "ff629e9c-d937-41d1-a2be-d8ca9766b9a9",
   "metadata": {},
   "source": [
    "## 2.2 Split Data"
   ]
  },
  {
   "cell_type": "code",
   "execution_count": null,
   "id": "c101debb-b16d-4154-a0c9-307ec931684b",
   "metadata": {
    "tags": []
   },
   "outputs": [],
   "source": [
    "train_size = int(len(scaled_data)*.7)\n",
    "val_size = int(len(scaled_data)*.2)\n",
    "test_size = int(len(scaled_data)*.1)\n",
    "\n",
    "print(\"Sizes {} must be equal to batch size {}\".format(val_size + test_size + train_size, len(data)))"
   ]
  },
  {
   "cell_type": "code",
   "execution_count": null,
   "id": "9b5b77e0-44da-49af-9c52-5eabd383b868",
   "metadata": {
    "tags": []
   },
   "outputs": [],
   "source": [
    "train = data.take(train_size)\n",
    "val = data.skip(train_size).take(val_size)\n",
    "test = data.skip(train_size + val_size).take(test_size)"
   ]
  },
  {
   "cell_type": "markdown",
   "id": "20884e0e-7f50-4943-ab1a-f590100bf383",
   "metadata": {
    "tags": []
   },
   "source": [
    "# 3. Deep Model"
   ]
  },
  {
   "cell_type": "markdown",
   "id": "4d841760-91c4-4ecb-8ef4-c1ff5caa1518",
   "metadata": {},
   "source": [
    "## 3.1 Build Deep Learning Model"
   ]
  },
  {
   "cell_type": "code",
   "execution_count": null,
   "id": "39d3b088-1f85-4b89-9b00-c875aea19553",
   "metadata": {
    "tags": []
   },
   "outputs": [],
   "source": [
    "from tensorflow.keras.models import Sequential\n",
    "from tensorflow.keras.layers import Conv2D, MaxPooling2D, Dense, Flatten"
   ]
  },
  {
   "cell_type": "code",
   "execution_count": null,
   "id": "293d837a-c878-45d3-ac0b-deeb4e6afad8",
   "metadata": {
    "tags": []
   },
   "outputs": [],
   "source": [
    "model = Sequential()"
   ]
  },
  {
   "cell_type": "code",
   "execution_count": null,
   "id": "7039e920-ea4f-47c2-b964-b5f47943ac7b",
   "metadata": {
    "tags": []
   },
   "outputs": [],
   "source": [
    "model.add(Conv2D(16, (3, 3), 1, activation=\"relu\", input_shape=(256, 256, 3)))\n",
    "model.add(MaxPooling2D())\n",
    "\n",
    "model.add(Conv2D(32, (3, 3), 1, activation=\"relu\"))\n",
    "model.add(MaxPooling2D())\n",
    "\n",
    "model.add(Conv2D(16, (3, 3), 1, activation=\"relu\"))\n",
    "model.add(MaxPooling2D())\n",
    "\n",
    "model.add(Flatten())\n",
    "\n",
    "model.add(Dense(256, activation='relu'))\n",
    "model.add(Dense(1, activation='sigmoid'))"
   ]
  },
  {
   "cell_type": "code",
   "execution_count": null,
   "id": "84faa034-4dae-44af-89fd-9f6ed5a10aa1",
   "metadata": {
    "tags": []
   },
   "outputs": [],
   "source": [
    "model.compile('adam', loss=tf.losses.BinaryCrossentropy(), metrics=[\"accuracy\"])"
   ]
  },
  {
   "cell_type": "code",
   "execution_count": null,
   "id": "5a52439a-3c45-45ed-a0b9-38826694b891",
   "metadata": {
    "tags": []
   },
   "outputs": [],
   "source": [
    "model.summary()"
   ]
  },
  {
   "cell_type": "markdown",
   "id": "e83f74c7-e646-43c1-946c-5dfa7440a8dc",
   "metadata": {
    "tags": []
   },
   "source": [
    "## 3.2 Train"
   ]
  },
  {
   "cell_type": "code",
   "execution_count": null,
   "id": "9f4a8230-7f8f-49ec-a7ea-61e46f063b77",
   "metadata": {
    "tags": []
   },
   "outputs": [],
   "source": [
    "logdir='logs'"
   ]
  },
  {
   "cell_type": "code",
   "execution_count": null,
   "id": "0bf1666e-0a7c-4c67-92b8-10afb53c9451",
   "metadata": {
    "tags": []
   },
   "outputs": [],
   "source": [
    "tensorboard_callback = tf.keras.callbacks.TensorBoard(log_dir=logdir)"
   ]
  },
  {
   "cell_type": "code",
   "execution_count": null,
   "id": "d0ab8b10-e606-4c53-acfd-0f29b9346ec3",
   "metadata": {
    "tags": []
   },
   "outputs": [],
   "source": [
    "hist = model.fit(train, epochs=25, validation_data=val, callbacks=[tensorboard_callback])"
   ]
  },
  {
   "cell_type": "code",
   "execution_count": null,
   "id": "9dac07ca-2d7f-43ca-b460-2af38ee6bc63",
   "metadata": {
    "tags": []
   },
   "outputs": [],
   "source": [
    "hist.history"
   ]
  },
  {
   "cell_type": "markdown",
   "id": "7bf1cf26-b4e3-45cc-a58e-7b0726518ad1",
   "metadata": {},
   "source": [
    "## 3.3 Plot Performance"
   ]
  },
  {
   "cell_type": "code",
   "execution_count": null,
   "id": "abbe15f5-3e8c-4460-a27a-f0c0827fd829",
   "metadata": {
    "tags": []
   },
   "outputs": [],
   "source": [
    "fig = plt.figure()\n",
    "plt.plot(hist.history[\"loss\"], color=\"teal\", label='loss')\n",
    "plt.plot(hist.history['val_loss'], color='orange', label='val_loss')\n",
    "fig.suptitle('Loss', fontsize=20)\n",
    "plt.legend(loc='upper right')\n",
    "plt.show()"
   ]
  },
  {
   "cell_type": "code",
   "execution_count": null,
   "id": "c02f515d-9ef6-4fe3-8664-9534343de0ee",
   "metadata": {
    "tags": []
   },
   "outputs": [],
   "source": [
    "fig = plt.figure()\n",
    "plt.plot(hist.history[\"accuracy\"], color=\"teal\", label='accuracy')\n",
    "plt.plot(hist.history['val_accuracy'], color='orange', label='val_accuracy')\n",
    "fig.suptitle('Accuracy', fontsize=20)\n",
    "plt.legend(loc='upper right')\n",
    "plt.show()"
   ]
  },
  {
   "cell_type": "markdown",
   "id": "b2bb3a14-ca1f-4d2a-8592-a8cc99fe1f1f",
   "metadata": {},
   "source": [
    "## 4. Evaluate Performance"
   ]
  },
  {
   "cell_type": "markdown",
   "id": "58ce86d8-017e-4434-8f1e-3fc38a681f8f",
   "metadata": {},
   "source": [
    "## 4.1 Evaluate"
   ]
  },
  {
   "cell_type": "code",
   "execution_count": null,
   "id": "af5985fd-58df-4922-8bc5-83010c711a03",
   "metadata": {
    "tags": []
   },
   "outputs": [],
   "source": [
    "from tensorflow.keras.metrics import Precision, Recall, BinaryAccuracy"
   ]
  },
  {
   "cell_type": "code",
   "execution_count": null,
   "id": "7ad788ef-6511-4c14-bf78-3dc4742acbc5",
   "metadata": {
    "tags": []
   },
   "outputs": [],
   "source": [
    "precision = Precision()\n",
    "recall = Recall()\n",
    "accuracy = BinaryAccuracy()"
   ]
  },
  {
   "cell_type": "code",
   "execution_count": null,
   "id": "8b99d27a-1d49-4327-8449-1508dcdd2896",
   "metadata": {
    "tags": []
   },
   "outputs": [],
   "source": [
    "for batch in test.as_numpy_iterator():\n",
    "    X, y = batch\n",
    "    yhat = model.predict(X)\n",
    "    precision.update_state(y, yhat)\n",
    "    recall.update_state(y, yhat)\n",
    "    accuracy.update_state(y, yhat)"
   ]
  },
  {
   "cell_type": "code",
   "execution_count": null,
   "id": "acfdab9b-f6c3-4344-a936-054ecae3728e",
   "metadata": {
    "tags": []
   },
   "outputs": [],
   "source": [
    "print(f\"Precision: {precision.result().numpy()}, Recall: {recall.result().numpy()}, Accuracy: {accuracy.result().numpy()}\")"
   ]
  },
  {
   "cell_type": "markdown",
   "id": "d7a987c1-51d9-4e9d-bd79-41dda4111bf6",
   "metadata": {},
   "source": [
    "## 4.2 Test"
   ]
  },
  {
   "cell_type": "code",
   "execution_count": null,
   "id": "9c2c6e81-d707-4773-bae0-4464919dfcd6",
   "metadata": {
    "tags": []
   },
   "outputs": [],
   "source": [
    "import cv2"
   ]
  },
  {
   "cell_type": "code",
   "execution_count": null,
   "id": "ffcb1592-9bf0-4caa-8a05-dee1584abb46",
   "metadata": {
    "tags": []
   },
   "outputs": [],
   "source": [
    "img = cv2.imread(\"sad_test.jpg\")\n",
    "recolored_image = cv2.cvtColor(img, cv2.COLOR_BGR2RGB)\n",
    "plt.imshow(recolored_image)\n",
    "plt.show()"
   ]
  },
  {
   "cell_type": "code",
   "execution_count": null,
   "id": "dbeea562-c303-41e8-af37-736f35f324d5",
   "metadata": {
    "tags": []
   },
   "outputs": [],
   "source": [
    "resize = tf.image.resize(recolored_image, (256,256))\n",
    "plt.imshow(resize.numpy().astype(int))\n",
    "plt.show()"
   ]
  },
  {
   "cell_type": "code",
   "execution_count": null,
   "id": "338c6d08-43d2-469a-af00-98f4012def38",
   "metadata": {
    "tags": []
   },
   "outputs": [],
   "source": [
    "yhat = model.predict(np.expand_dims(resize/255, 0))"
   ]
  },
  {
   "cell_type": "code",
   "execution_count": null,
   "id": "12c7e792-4e51-4b22-869e-37ce4b1cf89d",
   "metadata": {
    "tags": []
   },
   "outputs": [],
   "source": [
    "yhat"
   ]
  },
  {
   "cell_type": "code",
   "execution_count": null,
   "id": "71d71bdd-dae1-41f5-900f-c1686d34e84b",
   "metadata": {
    "tags": []
   },
   "outputs": [],
   "source": [
    "if yhat > 0.5:\n",
    "    print(\"Predicted class is Sad\")\n",
    "else:\n",
    "    print(\"Predicted class is Happy\")"
   ]
  },
  {
   "cell_type": "markdown",
   "id": "5255ed56-7644-4aa8-8f8c-143ddc5e118c",
   "metadata": {},
   "source": [
    "# 5. Save The Model"
   ]
  },
  {
   "cell_type": "markdown",
   "id": "e84fd637-8231-4b6e-9eb7-bbbd7ba32a9a",
   "metadata": {},
   "source": [
    "## 5.1 Save The Model"
   ]
  },
  {
   "cell_type": "code",
   "execution_count": null,
   "id": "161e6f73-5086-42fe-ace2-86b04ec23735",
   "metadata": {
    "tags": []
   },
   "outputs": [],
   "source": [
    "from tensorflow.keras.models import load_model"
   ]
  },
  {
   "cell_type": "code",
   "execution_count": null,
   "id": "212903d8-abbc-45fc-98d7-89d2a980d146",
   "metadata": {
    "tags": []
   },
   "outputs": [],
   "source": [
    "model_name = \"imageClassifier.h5\"\n",
    "model.save(os.path.join('models', model_name))"
   ]
  },
  {
   "cell_type": "code",
   "execution_count": null,
   "id": "07c4fb17-acc0-4205-a9fb-61da45fa3229",
   "metadata": {
    "tags": []
   },
   "outputs": [],
   "source": [
    "new_model = load_model(os.path.join(\"models\", model_name))"
   ]
  },
  {
   "cell_type": "code",
   "execution_count": null,
   "id": "afdcd94e-e42f-40d7-a8e8-9a654bcc8b35",
   "metadata": {
    "tags": []
   },
   "outputs": [],
   "source": [
    "yhat_new = new_model.predict(np.expand_dims(resize/255, 0))"
   ]
  },
  {
   "cell_type": "code",
   "execution_count": null,
   "id": "2b2eb4a6-e8d2-48f0-98c2-1949ec274bb4",
   "metadata": {
    "tags": []
   },
   "outputs": [],
   "source": [
    "if yhat_new > 0.5:\n",
    "    print(\"Predicted class is Sad\")\n",
    "else:\n",
    "    print(\"Predicted class is Happy\")"
   ]
  },
  {
   "cell_type": "code",
   "execution_count": null,
   "id": "e8a82bd9-39d0-4ea8-b63c-0f8566997636",
   "metadata": {},
   "outputs": [],
   "source": []
  }
 ],
 "metadata": {
  "kernelspec": {
   "display_name": "py310",
   "language": "python",
   "name": "py310"
  },
  "language_info": {
   "codemirror_mode": {
    "name": "ipython",
    "version": 3
   },
   "file_extension": ".py",
   "mimetype": "text/x-python",
   "name": "python",
   "nbconvert_exporter": "python",
   "pygments_lexer": "ipython3",
   "version": "3.10.13"
  }
 },
 "nbformat": 4,
 "nbformat_minor": 5
}
